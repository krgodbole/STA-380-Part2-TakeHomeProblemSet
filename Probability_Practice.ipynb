{
  "nbformat": 4,
  "nbformat_minor": 0,
  "metadata": {
    "colab": {
      "provenance": [],
      "authorship_tag": "ABX9TyN82us/Uo5hjT7c24l+LOY7",
      "include_colab_link": true
    },
    "kernelspec": {
      "name": "python3",
      "display_name": "Python 3"
    },
    "language_info": {
      "name": "python"
    }
  },
  "cells": [
    {
      "cell_type": "markdown",
      "metadata": {
        "id": "view-in-github",
        "colab_type": "text"
      },
      "source": [
        "<a href=\"https://colab.research.google.com/github/krgodbole/STA-380-Part2-TakeHomeProblemSet/blob/main/STA380_Part_2_Excercises.ipynb\" target=\"_parent\"><img src=\"https://colab.research.google.com/assets/colab-badge.svg\" alt=\"Open In Colab\"/></a>"
      ]
    },
    {
      "cell_type": "markdown",
      "source": [
        "Probability Practice: Part A"
      ],
      "metadata": {
        "id": "O6o9Hn6xqKb3"
      }
    },
    {
      "cell_type": "code",
      "source": [
        "#probabilities from problem set\n",
        "prob_rc = 0.3\n",
        "prob_tc = 0.7\n",
        "p_yes_rc = 0.5\n",
        "p_truth = 0.65\n",
        "#calculate probabilty of the Probabilith of Truthful Clicker\n",
        "#p_truth - (prob_rc*p_yes_rc) + (prob_tc*p_yes_tc)\n",
        "p_yes_tc= (.65 - (0.3*0.5))/0.7\n",
        "print(p_yes_tc)\n"
      ],
      "metadata": {
        "colab": {
          "base_uri": "https://localhost:8080/"
        },
        "id": "zK1aOezkuV1S",
        "outputId": "ab3cc850-fce8-4b75-af95-54695655bb3b"
      },
      "execution_count": 5,
      "outputs": [
        {
          "output_type": "stream",
          "name": "stdout",
          "text": [
            "0.7142857142857143\n"
          ]
        }
      ]
    },
    {
      "cell_type": "markdown",
      "source": [
        "For Problem A, we took the probabilities given, we can assume that the random clicker will get a 50% chance of clicking either 'yes' or 'no'. However, the random clickers make up 30% of the dataset. We can back into the probability of truthful clickers by subtracting the overall percentage by the probability of the random clickers. We used python as a calculator to help set up variables and show the process of solving this."
      ],
      "metadata": {
        "id": "Kko4-M4H1kK0"
      }
    },
    {
      "cell_type": "markdown",
      "source": [
        "Probability Practice: Part B"
      ],
      "metadata": {
        "id": "U05ilmDZ2sej"
      }
    },
    {
      "cell_type": "code",
      "source": [
        "#add constants from problem\n",
        "sensitivity = .993\n",
        "specificity = .9999\n",
        "prob_disease = .000025\n",
        "total_positive_test = (prob_disease*sensitivity) + ((1-prob_disease)*(1-specificity))\n",
        "print(total_positive_test)\n",
        "answer = (prob_disease*sensitivity)/total_positive_test\n",
        "print(answer)\n"
      ],
      "metadata": {
        "colab": {
          "base_uri": "https://localhost:8080/"
        },
        "id": "N9FipDgY2vrs",
        "outputId": "593fc21c-22e8-4c9b-b03d-052c388c58ae"
      },
      "execution_count": 14,
      "outputs": [
        {
          "output_type": "stream",
          "name": "stdout",
          "text": [
            "0.000124822499999989\n",
            "0.19888241302651516\n"
          ]
        }
      ]
    },
    {
      "cell_type": "code",
      "source": [
        "For Problem B, we took the sensitivity, the specificity, and the probability of disease and entered them as variables. Then, we calculated the total positive events. After that, we multiplied the disease probability by the sensitivity and divided it by the total positive test rate to get to our answer. 
      ],
      "metadata": {
        "id": "huH60hwKqRqc"
      },
      "execution_count": null,
      "outputs": []
    }
  ]
}
