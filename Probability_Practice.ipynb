{
 "cells": [
  {
   "cell_type": "code",
   "execution_count": 5,
   "id": "ccc90204-d955-482e-b44a-f6afcbc9b550",
   "metadata": {},
   "outputs": [],
   "source": [
    "import os\n",
    "import math\n",
    "from pandas import Series, DataFrame\n",
    "import pandas as pd\n",
    "import matplotlib.pyplot as plt"
   ]
  },
  {
   "cell_type": "code",
   "execution_count": 6,
   "id": "d4f1e748-4b7d-45e8-8b98-c1b89952407b",
   "metadata": {},
   "outputs": [
    {
     "name": "stdout",
     "output_type": "stream",
     "text": [
      "0.7142857142857143\n"
     ]
    }
   ],
   "source": [
    "#probabilities from problem set\n",
    "prob_rc = 0.3\n",
    "prob_tc = 0.7\n",
    "p_yes_rc = 0.5\n",
    "p_truth = 0.65\n",
    "#calculate probabilty of the Probabilith of Truthful Clicker\n",
    "#p_truth - (prob_rc*p_yes_rc) + (prob_tc*p_yes_tc)\n",
    "p_yes_tc= (.65 - (0.3*0.5))/0.7\n",
    "print(p_yes_tc)\n"
   ]
  },
  {
   "cell_type": "markdown",
   "id": "97a72bdd-ab2e-4f8f-8bf8-3e2fa237cf7f",
   "metadata": {},
   "source": [
    "For Problem A, we took the probabilities given, we can assume that the random clicker will get a 50% chance of clicking either 'yes' or 'no'. However, the random clickers make up 30% of the dataset. We can back into the probability of truthful clickers by subtracting the overall percentage by the probability of the random clickers. We used python as a calculator to help set up variables and show the process of solving this."
   ]
  },
  {
   "cell_type": "code",
   "execution_count": 8,
   "id": "d0e48d49-6f9d-4eda-80f8-9ba9daaa2cfd",
   "metadata": {},
   "outputs": [
    {
     "name": "stdout",
     "output_type": "stream",
     "text": [
      "0.000124822499999989\n",
      "0.19888241302651516\n"
     ]
    }
   ],
   "source": [
    "#add constants from problem\n",
    "sensitivity = .993\n",
    "specificity = .9999\n",
    "prob_disease = .000025\n",
    "total_positive_test = (prob_disease*sensitivity) + ((1-prob_disease)*(1-specificity))\n",
    "print(total_positive_test)\n",
    "answer = (prob_disease*sensitivity)/total_positive_test\n",
    "print(answer)\n"
   ]
  },
  {
   "cell_type": "markdown",
   "id": "dc2113a5-65ef-4f51-ba98-36c04fb1e5de",
   "metadata": {},
   "source": [
    "For Problem B, we took the sensitivity, the specificity, and the probability of disease and entered them as variables. Then, we calculated the total positive events. After that, we multiplied the disease probability by the sensitivity and divided it by the total positive test rate to get to our answer."
   ]
  },
  {
   "cell_type": "code",
   "execution_count": null,
   "id": "f8e472ec-0f4c-4e1f-8f32-e6a1c641cf8c",
   "metadata": {},
   "outputs": [],
   "source": []
  }
 ],
 "metadata": {
  "kernelspec": {
   "display_name": "Python 3 (ipykernel)",
   "language": "python",
   "name": "python3"
  },
  "language_info": {
   "codemirror_mode": {
    "name": "ipython",
    "version": 3
   },
   "file_extension": ".py",
   "mimetype": "text/x-python",
   "name": "python",
   "nbconvert_exporter": "python",
   "pygments_lexer": "ipython3",
   "version": "3.12.4"
  }
 },
 "nbformat": 4,
 "nbformat_minor": 5
}
