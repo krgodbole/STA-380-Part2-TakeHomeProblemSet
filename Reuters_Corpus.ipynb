{
 "cells": [
  {
   "cell_type": "markdown",
   "id": "282bd003-b38b-4702-824a-f8094c90d77c",
   "metadata": {},
   "source": [
    "# The Reuters Corpus\n",
    "\n",
    "### In this problem, we found two differenct sentiment analysis: the VADER and the TextBlob analysis. We pre-processed the data with the stopwords and then we were able to feed all the text through both sentiment analysis methods. I created a column that shows the difference between the VADER and TB, and another column that did TB minus VADER. We then found the 5 authors that had the biggest difference between the two analysis methods and plotted them below. We then wanted to see whether there were any authors that had a negative sentiment on one of the analysis and a positive on the other. I found this out by creating a column that multiplied the VADER and TB sentiments together, since if they were both positive or negative then the product would be positive, while a negative result would mean the two sentiments didn't line up. I then analyzed the two authors with the biggest difference from this section, and pulled in some keywords. I realized that both authors seemed to be talking about politics in Colombia and China, respectively. We could infer from the keywords and the varying sentiment analysis that the articles that were written by these authors likely varied on a scale of negative or positive, since the news in these countries tends to vary from negative to positive. "
   ]
  },
  {
   "cell_type": "code",
   "execution_count": 28,
   "id": "b5268ea6-d53b-44bd-9728-f49b0a94b73d",
   "metadata": {},
   "outputs": [
    {
     "name": "stdout",
     "output_type": "stream",
     "text": [
      "showing info https://raw.githubusercontent.com/nltk/nltk_data/gh-pages/index.xml\n"
     ]
    },
    {
     "name": "stderr",
     "output_type": "stream",
     "text": [
      "[nltk_data] Downloading package stopwords to\n",
      "[nltk_data]     C:\\Users\\krgod\\AppData\\Roaming\\nltk_data...\n",
      "[nltk_data]   Package stopwords is already up-to-date!\n",
      "[nltk_data] Downloading package stopwords to\n",
      "[nltk_data]     C:\\Users\\krgod\\Documents\\Texas MSBA\\Summer\n",
      "[nltk_data]     Semester\\STA 380\\Part 2\\ReutersC50\\C50test...\n",
      "[nltk_data]   Package stopwords is already up-to-date!\n",
      "[nltk_data] Downloading package reuters to\n",
      "[nltk_data]     C:\\Users\\krgod\\Documents\\Texas MSBA\\Summer\n",
      "[nltk_data]     Semester\\STA 380\\Part 2\\ReutersC50\\C50test...\n",
      "[nltk_data]   Package reuters is already up-to-date!\n"
     ]
    },
    {
     "data": {
      "text/plain": [
       "True"
      ]
     },
     "execution_count": 28,
     "metadata": {},
     "output_type": "execute_result"
    }
   ],
   "source": [
    "import nltk\n",
    "import nltk\n",
    "nltk.download()\n",
    "import random\n",
    "import os\n",
    "import re\n",
    "import numpy as np\n",
    "import pandas as pd\n",
    "from textblob import TextBlob\n",
    "from vaderSentiment.vaderSentiment import SentimentIntensityAnalyzer\n",
    "from collections import Counter\n",
    "from nltk.corpus import reuters, stopwords\n",
    "from sklearn.feature_extraction.text import TfidfVectorizer\n",
    "#download stopwords and import data from personal drive\n",
    "nltk.download('stopwords')\n",
    "#MAY NEED TO CHANGE BELOW LINK TO SUBMIT PROPERLY\n",
    "data_dir = \"C:\\\\Users\\\\krgod\\\\Documents\\\\Texas MSBA\\\\Summer Semester\\\\STA 380\\\\Part 2\\\\ReutersC50\\\\C50test\"\n",
    "nltk.data.path.append(os.path.abspath(data_dir))\n",
    "nltk.download('stopwords', download_dir=data_dir)\n",
    "nltk.download('reuters', download_dir=data_dir)"
   ]
  },
  {
   "cell_type": "code",
   "execution_count": 29,
   "id": "92586a02-c630-4ef7-a431-da11999d2891",
   "metadata": {},
   "outputs": [
    {
     "data": {
      "text/html": [
       "<div>\n",
       "<style scoped>\n",
       "    .dataframe tbody tr th:only-of-type {\n",
       "        vertical-align: middle;\n",
       "    }\n",
       "\n",
       "    .dataframe tbody tr th {\n",
       "        vertical-align: top;\n",
       "    }\n",
       "\n",
       "    .dataframe thead th {\n",
       "        text-align: right;\n",
       "    }\n",
       "</style>\n",
       "<table border=\"1\" class=\"dataframe\">\n",
       "  <thead>\n",
       "    <tr style=\"text-align: right;\">\n",
       "      <th></th>\n",
       "      <th>Author</th>\n",
       "      <th>Avg_VADER_Sentiment</th>\n",
       "      <th>Avg_TextBlob_Sentiment</th>\n",
       "    </tr>\n",
       "  </thead>\n",
       "  <tbody>\n",
       "    <tr>\n",
       "      <th>0</th>\n",
       "      <td>AaronPressman</td>\n",
       "      <td>0.568550</td>\n",
       "      <td>0.068444</td>\n",
       "    </tr>\n",
       "    <tr>\n",
       "      <th>1</th>\n",
       "      <td>AlanCrosby</td>\n",
       "      <td>0.659056</td>\n",
       "      <td>0.042353</td>\n",
       "    </tr>\n",
       "    <tr>\n",
       "      <th>2</th>\n",
       "      <td>AlexanderSmith</td>\n",
       "      <td>0.233894</td>\n",
       "      <td>0.065448</td>\n",
       "    </tr>\n",
       "    <tr>\n",
       "      <th>3</th>\n",
       "      <td>BenjaminKangLim</td>\n",
       "      <td>-0.511120</td>\n",
       "      <td>0.013615</td>\n",
       "    </tr>\n",
       "    <tr>\n",
       "      <th>4</th>\n",
       "      <td>BernardHickey</td>\n",
       "      <td>0.721658</td>\n",
       "      <td>0.055444</td>\n",
       "    </tr>\n",
       "  </tbody>\n",
       "</table>\n",
       "</div>"
      ],
      "text/plain": [
       "            Author  Avg_VADER_Sentiment  Avg_TextBlob_Sentiment\n",
       "0    AaronPressman             0.568550                0.068444\n",
       "1       AlanCrosby             0.659056                0.042353\n",
       "2   AlexanderSmith             0.233894                0.065448\n",
       "3  BenjaminKangLim            -0.511120                0.013615\n",
       "4    BernardHickey             0.721658                0.055444"
      ]
     },
     "execution_count": 29,
     "metadata": {},
     "output_type": "execute_result"
    }
   ],
   "source": [
    "#sentiment analysis\n",
    "analyzer = SentimentIntensityAnalyzer()\n",
    "author_sentiments = []\n",
    "\n",
    "for author_dir in os.listdir(data_dir):\n",
    "    author_path = os.path.join(data_dir, author_dir)\n",
    "    if os.path.isdir(author_path):\n",
    "        sentiments = []\n",
    "        for file in os.listdir(author_path):\n",
    "            if file.endswith(\".txt\"):\n",
    "                file_path = os.path.join(author_path, file)\n",
    "                with open(file_path, 'r', encoding='utf-8') as f:\n",
    "                    text = f.read()\n",
    "\n",
    "                    # Preprocess the text\n",
    "                    words = re.findall(r'\\b\\w+\\b', text.lower())\n",
    "                    stop_words = set(stopwords.words('english'))\n",
    "                    words = [word for word in words if word not in stop_words]\n",
    "                    processed_text = \" \".join(words)\n",
    "                    \n",
    "                    # Perform sentiment analysis using VADER\n",
    "                    vader_sentiment = analyzer.polarity_scores(processed_text)['compound']\n",
    "                    \n",
    "                    # Perform sentiment analysis using TextBlob\n",
    "                    blob_sentiment = TextBlob(processed_text).sentiment.polarity\n",
    "                    \n",
    "                    # Store the results\n",
    "                    sentiments.append((vader_sentiment, blob_sentiment))\n",
    "         # Aggregate sentiment for this author\n",
    "        avg_vader_sentiment = sum(s[0] for s in sentiments) / len(sentiments) if sentiments else 0\n",
    "        avg_blob_sentiment = sum(s[1] for s in sentiments) / len(sentiments) if sentiments else 0\n",
    "        \n",
    "        author_sentiments.append({\n",
    "            'Author': author_dir,\n",
    "            'Avg_VADER_Sentiment': avg_vader_sentiment,\n",
    "            'Avg_TextBlob_Sentiment': avg_blob_sentiment\n",
    "        })\n",
    "\n",
    "df_sentiments = pd.DataFrame(author_sentiments)\n",
    "\n",
    "# Display the DataFrame\n",
    "df_sentiments[:5]"
   ]
  },
  {
   "cell_type": "code",
   "execution_count": 30,
   "id": "a960489b-5d1e-49ba-8aec-e917849b092c",
   "metadata": {},
   "outputs": [
    {
     "data": {
      "text/plain": [
       "<Axes: title={'center': 'Difference between VADER and TB'}, xlabel='Author'>"
      ]
     },
     "execution_count": 30,
     "metadata": {},
     "output_type": "execute_result"
    },
    {
     "data": {
      "image/png": "[encoded data removed]",
      "text/plain": [
       "<Figure size 640x480 with 1 Axes>"
      ]
     },
     "metadata": {},
     "output_type": "display_data"
    }
   ],
   "source": [
    "#find authors with biggest differences between two sentiment calculators\n",
    "df_sentiments['Difference'] = df_sentiments['Avg_VADER_Sentiment'] + df_sentiments['Avg_TextBlob_Sentiment']\n",
    "VADER_minus_TB = df_sentiments.sort_values(by = 'Difference',ascending = False) #returns 5 authors with biggest difference between VADER and TextBlob\n",
    "VADER_minus_TB[:5].plot(kind = 'bar', x = 'Author', y = 'Difference', title = 'Difference between VADER and TB', legend = False)"
   ]
  },
  {
   "cell_type": "code",
   "execution_count": 31,
   "id": "d0395274-55b6-4342-9e38-6ffeecaeb719",
   "metadata": {},
   "outputs": [
    {
     "data": {
      "text/plain": [
       "<Axes: title={'center': 'Difference Between TB and VADER'}, xlabel='Author'>"
      ]
     },
     "execution_count": 31,
     "metadata": {},
     "output_type": "execute_result"
    },
    {
     "data": {
      "image/png": "[encoded data removed]",
      "text/plain": [
       "<Figure size 640x480 with 1 Axes>"
      ]
     },
     "metadata": {},
     "output_type": "display_data"
    }
   ],
   "source": [
    "TB_minus_VADER = df_sentiments.sort_values(by = 'Difference',ascending = True) #returns 5 authors with biggest difference between TextBlob and VADER\n",
    "TB_minus_VADER[:5].plot(kind = 'bar', x = 'Author', y = 'Difference', title = 'Difference Between TB and VADER', legend = False)"
   ]
  },
  {
   "cell_type": "code",
   "execution_count": 32,
   "id": "8b9fd945-572d-474c-b7a9-6a06dfaf2284",
   "metadata": {},
   "outputs": [
    {
     "data": {
      "text/html": [
       "<div>\n",
       "<style scoped>\n",
       "    .dataframe tbody tr th:only-of-type {\n",
       "        vertical-align: middle;\n",
       "    }\n",
       "\n",
       "    .dataframe tbody tr th {\n",
       "        vertical-align: top;\n",
       "    }\n",
       "\n",
       "    .dataframe thead th {\n",
       "        text-align: right;\n",
       "    }\n",
       "</style>\n",
       "<table border=\"1\" class=\"dataframe\">\n",
       "  <thead>\n",
       "    <tr style=\"text-align: right;\">\n",
       "      <th></th>\n",
       "      <th>Author</th>\n",
       "      <th>Avg_VADER_Sentiment</th>\n",
       "      <th>Avg_TextBlob_Sentiment</th>\n",
       "      <th>Difference</th>\n",
       "      <th>Opposite</th>\n",
       "    </tr>\n",
       "  </thead>\n",
       "  <tbody>\n",
       "    <tr>\n",
       "      <th>21</th>\n",
       "      <td>KarlPenhaul</td>\n",
       "      <td>-0.658348</td>\n",
       "      <td>0.014949</td>\n",
       "      <td>-0.643399</td>\n",
       "      <td>-0.009842</td>\n",
       "    </tr>\n",
       "    <tr>\n",
       "      <th>3</th>\n",
       "      <td>BenjaminKangLim</td>\n",
       "      <td>-0.511120</td>\n",
       "      <td>0.013615</td>\n",
       "      <td>-0.497505</td>\n",
       "      <td>-0.006959</td>\n",
       "    </tr>\n",
       "    <tr>\n",
       "      <th>11</th>\n",
       "      <td>FumikoFujisaki</td>\n",
       "      <td>-0.266928</td>\n",
       "      <td>0.000132</td>\n",
       "      <td>-0.266796</td>\n",
       "      <td>-0.000035</td>\n",
       "    </tr>\n",
       "    <tr>\n",
       "      <th>44</th>\n",
       "      <td>ScottHillis</td>\n",
       "      <td>-0.092346</td>\n",
       "      <td>0.032247</td>\n",
       "      <td>-0.060099</td>\n",
       "      <td>-0.002978</td>\n",
       "    </tr>\n",
       "    <tr>\n",
       "      <th>7</th>\n",
       "      <td>DarrenSchuettler</td>\n",
       "      <td>-0.106262</td>\n",
       "      <td>0.048814</td>\n",
       "      <td>-0.057448</td>\n",
       "      <td>-0.005187</td>\n",
       "    </tr>\n",
       "    <tr>\n",
       "      <th>34</th>\n",
       "      <td>MichaelConnor</td>\n",
       "      <td>-0.002626</td>\n",
       "      <td>0.074201</td>\n",
       "      <td>0.071575</td>\n",
       "      <td>-0.000195</td>\n",
       "    </tr>\n",
       "  </tbody>\n",
       "</table>\n",
       "</div>"
      ],
      "text/plain": [
       "              Author  Avg_VADER_Sentiment  Avg_TextBlob_Sentiment  Difference  \\\n",
       "21       KarlPenhaul            -0.658348                0.014949   -0.643399   \n",
       "3    BenjaminKangLim            -0.511120                0.013615   -0.497505   \n",
       "11    FumikoFujisaki            -0.266928                0.000132   -0.266796   \n",
       "44       ScottHillis            -0.092346                0.032247   -0.060099   \n",
       "7   DarrenSchuettler            -0.106262                0.048814   -0.057448   \n",
       "34     MichaelConnor            -0.002626                0.074201    0.071575   \n",
       "\n",
       "    Opposite  \n",
       "21 -0.009842  \n",
       "3  -0.006959  \n",
       "11 -0.000035  \n",
       "44 -0.002978  \n",
       "7  -0.005187  \n",
       "34 -0.000195  "
      ]
     },
     "execution_count": 32,
     "metadata": {},
     "output_type": "execute_result"
    }
   ],
   "source": [
    "#find instances where two sentiment calculators are returning opposite sentiments by multiplying sentiments together\n",
    "df_sentiments['Opposite'] = df_sentiments['Avg_VADER_Sentiment'] * df_sentiments['Avg_TextBlob_Sentiment']\n",
    "opposite_df = df_sentiments[df_sentiments['Opposite'] <0]\n",
    "opposite_df.sort_values(by = 'Difference',ascending = True)\n",
    "\n",
    "#Karl Penhaul if the author with the biggest difference between a positive and negative rating among authors that had the two rating systems\n",
    "#giving opposite results. "
   ]
  },
  {
   "cell_type": "code",
   "execution_count": 33,
   "id": "4aed6d02-9e11-4811-ba63-d1c34df861e1",
   "metadata": {},
   "outputs": [
    {
     "data": {
      "text/plain": [
       "[('said', 281),\n",
       " ('colombia', 162),\n",
       " ('government', 119),\n",
       " ('strike', 119),\n",
       " ('army', 97),\n",
       " ('workers', 85),\n",
       " ('would', 83),\n",
       " ('drug', 79),\n",
       " ('last', 76),\n",
       " ('000', 71),\n",
       " ('one', 62),\n",
       " ('farc', 61),\n",
       " ('national', 61),\n",
       " ('people', 60),\n",
       " ('political', 57),\n",
       " ('bogota', 56),\n",
       " ('samper', 55),\n",
       " ('guerrillas', 54),\n",
       " ('state', 54),\n",
       " ('coffee', 54)]"
      ]
     },
     "execution_count": 33,
     "metadata": {},
     "output_type": "execute_result"
    }
   ],
   "source": [
    "#find keywords in Karl Penhaul's texts \n",
    "karlpenhaul = []\n",
    "author_name = \"KarlPenhaul\"\n",
    "#open all files authored by Karl Penhaul \n",
    "author_path = os.path.join(data_dir, author_name)\n",
    "if os.path.isdir(author_path):\n",
    "    for file in os.listdir(author_path):\n",
    "        if file.endswith(\".txt\"):\n",
    "            file_path = os.path.join(author_path, file)\n",
    "            with open(file_path, 'r', encoding='utf-8') as f:\n",
    "                karlpenhaul.append(f.read())\n",
    "\n",
    "combined_text = \" \".join(karlpenhaul)\n",
    "\n",
    "stop_words = set(stopwords.words('english'))\n",
    "words = re.findall(r'\\b\\w+\\b', combined_text.lower())\n",
    "filtered_words = [word for word in words if word not in stop_words]\n",
    "\n",
    "word_counts = Counter(filtered_words)\n",
    "common_words = word_counts.most_common(20)\n",
    "common_words"
   ]
  },
  {
   "cell_type": "code",
   "execution_count": 34,
   "id": "7e971563-5684-457e-b2e0-5ffd1bcc4e0e",
   "metadata": {},
   "outputs": [
    {
     "data": {
      "text/plain": [
       "[('said', 460),\n",
       " ('china', 330),\n",
       " ('chinese', 180),\n",
       " ('beijing', 154),\n",
       " ('would', 94),\n",
       " ('people', 88),\n",
       " ('year', 86),\n",
       " ('last', 86),\n",
       " ('police', 72),\n",
       " ('one', 72),\n",
       " ('foreign', 70),\n",
       " ('u', 70),\n",
       " ('party', 66),\n",
       " ('officials', 63),\n",
       " ('north', 63),\n",
       " ('percent', 62),\n",
       " ('years', 61),\n",
       " ('taiwan', 61),\n",
       " ('hong', 61),\n",
       " ('kong', 61)]"
      ]
     },
     "execution_count": 34,
     "metadata": {},
     "output_type": "execute_result"
    }
   ],
   "source": [
    "#repeat code for BenjaminKangLim\n",
    "#find keywords in Karl Penhaul's texts \n",
    "bkl = [] #author's initials\n",
    "author_name = \"BenjaminKangLim\"\n",
    "#open all files authored by Karl Penhaul \n",
    "author_path = os.path.join(data_dir, author_name)\n",
    "if os.path.isdir(author_path):\n",
    "    for file in os.listdir(author_path):\n",
    "        if file.endswith(\".txt\"):\n",
    "            file_path = os.path.join(author_path, file)\n",
    "            with open(file_path, 'r', encoding='utf-8') as f:\n",
    "                bkl.append(f.read())\n",
    "\n",
    "combined_text = \" \".join(bkl)\n",
    "\n",
    "stop_words = set(stopwords.words('english'))\n",
    "words = re.findall(r'\\b\\w+\\b', combined_text.lower())\n",
    "filtered_words = [word for word in words if word not in stop_words]\n",
    "\n",
    "word_counts = Counter(filtered_words)\n",
    "common_words = word_counts.most_common(20)\n",
    "common_words[:20]\n"
   ]
  },
  {
   "cell_type": "code",
   "execution_count": 35,
   "id": "4e000899-d829-4db4-af18-c811d2a1c77a",
   "metadata": {},
   "outputs": [],
   "source": [
    "#both authors seem to be writing articles/related to the governments of Colombia and China respectively, judging by the keywords. \n",
    "#the articles seemed to be a mixed bag of positive and negative comments/articles which is throwing off the sentiment analysis. "
   ]
  }
 ],
 "metadata": {
  "kernelspec": {
   "display_name": "Python 3 (ipykernel)",
   "language": "python",
   "name": "python3"
  },
  "language_info": {
   "codemirror_mode": {
    "name": "ipython",
    "version": 3
   },
   "file_extension": ".py",
   "mimetype": "text/x-python",
   "name": "python",
   "nbconvert_exporter": "python",
   "pygments_lexer": "ipython3",
   "version": "3.12.4"
  }
 },
 "nbformat": 4,
 "nbformat_minor": 5
}
